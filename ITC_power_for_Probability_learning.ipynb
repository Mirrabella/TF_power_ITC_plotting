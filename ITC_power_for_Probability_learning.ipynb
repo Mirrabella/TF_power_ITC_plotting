{
 "cells": [
  {
   "cell_type": "markdown",
   "metadata": {},
   "source": [
    "# Training notebook\n",
    "# Time frequency plots and inter trial coherence for Probability learning   \n",
    "\n",
    "https://mne.tools/stable/auto_tutorials/time-freq/20_sensors_time_frequency.html \n",
    "\n",
    "\n",
    "\n",
    "# !!!!!! Inter-trial coherence is not supported with average=False !!!!!\n"
   ]
  },
  {
   "cell_type": "code",
   "execution_count": 2,
   "metadata": {},
   "outputs": [],
   "source": [
    "import os.path as op\n",
    "\n",
    "import numpy as np\n",
    "import matplotlib.pyplot as plt\n",
    "\n",
    "import mne\n",
    "from mne.time_frequency import tfr_morlet, psd_multitaper, psd_welch, tfr_multitaper\n",
    "\n",
    "import copy\n",
    "\n",
    "import os"
   ]
  },
  {
   "cell_type": "markdown",
   "metadata": {},
   "source": [
    "# Для одного испытуемого"
   ]
  },
  {
   "cell_type": "code",
   "execution_count": 54,
   "metadata": {},
   "outputs": [],
   "source": [
    "subj = 'P001'\n",
    "r = 2\n",
    "cond = 'risk'\n",
    "fb = 'negative'\n",
    "\n",
    "L_freq = 2\n",
    "H_freq = 41\n",
    "f_step = 2\n",
    "freqs = np.arange(L_freq, H_freq, f_step)\n",
    "#for others\n",
    "n_cycles = freqs//2\n",
    "\n",
    "period_start = -1.750\n",
    "period_end = 2.750\n",
    "\n",
    "baseline = (-0.35, -0.05)\n",
    "\n",
    "data_path = '/net/server/data/Archive/prob_learn/vtretyakova/ICA_cleaned'\n"
   ]
  },
  {
   "cell_type": "markdown",
   "metadata": {},
   "source": [
    "# Загружаем данные для бейзлайн"
   ]
  },
  {
   "cell_type": "code",
   "execution_count": 4,
   "metadata": {},
   "outputs": [],
   "source": [
    "events_pos = np.loadtxt(\"/net/server/data/Archive/prob_learn/vtretyakova/Nikita_mio_cleaned/fix_cross_mio_corr/{0}_run{1}_norisk_fb_cur_positive_fix_cross.txt\".format(subj, r), dtype='int') \n",
    "if events_pos.shape == (3,):\n",
    "    events_pos = events_pos.reshape(1,3)\n",
    "        "
   ]
  },
  {
   "cell_type": "code",
   "execution_count": 5,
   "metadata": {},
   "outputs": [],
   "source": [
    "events_neg = np.loadtxt(\"/net/server/data/Archive/prob_learn/vtretyakova/Nikita_mio_cleaned/fix_cross_mio_corr/{0}_run{1}_norisk_fb_cur_negative_fix_cross.txt\".format(subj, r), dtype='int')\n",
    "if events_neg.shape == (3,):\n",
    "    events_neg = events_neg.reshape(1,3) "
   ]
  },
  {
   "cell_type": "code",
   "execution_count": 6,
   "metadata": {},
   "outputs": [],
   "source": [
    "#объединяем негативные и позитивные фидбеки для получения общего бейзлайна по ним, и сортируем массив, чтобы времена меток шли в порядке возрастания    \n",
    "events = np.vstack([events_pos, events_neg])\n",
    "events = np.sort(events, axis = 0) "
   ]
  },
  {
   "cell_type": "markdown",
   "metadata": {},
   "source": [
    "# Загружаем данные для анализа"
   ]
  },
  {
   "cell_type": "code",
   "execution_count": 7,
   "metadata": {},
   "outputs": [],
   "source": [
    "#events, which we need\n",
    "events_response = np.loadtxt('/net/server/data/Archive/prob_learn/vtretyakova/Nikita_mio_cleaned/events_by_cond_mio_corrected/{0}_run{1}_{2}_fb_cur_{3}.txt'.format(subj, r, cond, fb), dtype='int')\n",
    "# если только одна метка, т.е. одна эпоха, то выдается ошибка, поэтому приводи shape к виду (N,3)\n",
    "if events_response.shape == (3,):\n",
    "    events_response = events_response.reshape(1,3)"
   ]
  },
  {
   "cell_type": "code",
   "execution_count": 8,
   "metadata": {},
   "outputs": [
    {
     "name": "stdout",
     "output_type": "stream",
     "text": [
      "Opening raw data file /net/server/data/Archive/prob_learn/vtretyakova/ICA_cleaned/P001/run2_P001_raw_ica.fif...\n"
     ]
    },
    {
     "name": "stderr",
     "output_type": "stream",
     "text": [
      "/tmp/ipykernel_1568406/1922448513.py:3: RuntimeWarning: This filename (/net/server/data/Archive/prob_learn/vtretyakova/ICA_cleaned/P001/run2_P001_raw_ica.fif) does not conform to MNE naming conventions. All raw files should end with raw.fif, raw_sss.fif, raw_tsss.fif, _meg.fif, _eeg.fif, _ieeg.fif, raw.fif.gz, raw_sss.fif.gz, raw_tsss.fif.gz, _meg.fif.gz, _eeg.fif.gz or _ieeg.fif.gz\n",
      "  raw_data = mne.io.Raw(raw_fname, preload=True)\n"
     ]
    },
    {
     "name": "stdout",
     "output_type": "stream",
     "text": [
      "    Range : 154000 ... 303999 =    154.000 ...   303.999 secs\n",
      "Ready.\n",
      "Reading 0 ... 149999  =      0.000 ...   149.999 secs...\n"
     ]
    }
   ],
   "source": [
    "raw_fname = op.join(data_path, '{0}/run{1}_{0}_raw_ica.fif'.format(subj, r))\n",
    "\n",
    "raw_data = mne.io.Raw(raw_fname, preload=True)\n",
    "        \n",
    "    \n",
    "picks = mne.pick_types(raw_data.info, meg = True, eog = True)"
   ]
  },
  {
   "cell_type": "markdown",
   "metadata": {},
   "source": [
    "# ############## Для бейзлайна "
   ]
  },
  {
   "cell_type": "code",
   "execution_count": 91,
   "metadata": {},
   "outputs": [
    {
     "name": "stdout",
     "output_type": "stream",
     "text": [
      "Not setting metadata\n",
      "Not setting metadata\n",
      "25 matching events found\n",
      "No baseline correction applied\n",
      "0 projection items activated\n",
      "Loading data for 25 events and 2001 original time points ...\n",
      "0 bad epochs dropped\n"
     ]
    },
    {
     "data": {
      "text/html": [
       "\n",
       "<table class=\"table table-hover table-striped table-sm table-responsive small\">\n",
       "    <tr>\n",
       "        <th>Number of events</th>\n",
       "        <td>25</td>\n",
       "    </tr>\n",
       "    <tr>\n",
       "        <th>Events</th>\n",
       "        <td>1: 25<br></td>\n",
       "    </tr>\n",
       "    <tr>\n",
       "        <th>Time range</th>\n",
       "        <td>-1.000 – 0.997 sec</td>\n",
       "    </tr>\n",
       "    <tr>\n",
       "        <th>Baseline</th>\n",
       "        <td>off</td>\n",
       "    </tr>\n",
       "</table>\n"
      ],
      "text/plain": [
       "<Epochs |  25 events (all good), -1 - 0.996667 sec, baseline off, ~40.2 MB, data loaded,\n",
       " '1': 25>"
      ]
     },
     "execution_count": 91,
     "metadata": {},
     "output_type": "execute_result"
    }
   ],
   "source": [
    "#epochs for baseline\n",
    "    # baseline = None, чтобы не вычитался дефолтный бейзлайн\n",
    "epochs = mne.Epochs(raw_data, events, event_id = None, tmin = -1.0, tmax = 1.0, baseline = None, picks = picks, \n",
    "                    preload = True)\n",
    "epochs.resample(300)"
   ]
  },
  {
   "cell_type": "code",
   "execution_count": 92,
   "metadata": {},
   "outputs": [],
   "source": [
    "freq_show_baseline = tfr_multitaper(epochs, freqs = freqs, n_cycles = n_cycles, use_fft = False, return_itc = False,\n",
    "                                    average=True).crop(tmin=baseline[0], tmax=baseline[1], include_tmax=True) #frequency of baseline\n",
    "\n"
   ]
  },
  {
   "cell_type": "code",
   "execution_count": 93,
   "metadata": {},
   "outputs": [
    {
     "data": {
      "text/plain": [
       "(306, 20, 91)"
      ]
     },
     "execution_count": 93,
     "metadata": {},
     "output_type": "execute_result"
    }
   ],
   "source": [
    "freq_show_baseline.data.shape"
   ]
  },
  {
   "cell_type": "code",
   "execution_count": 94,
   "metadata": {},
   "outputs": [
    {
     "data": {
      "text/plain": [
       "(306, 20)"
      ]
     },
     "execution_count": 94,
     "metadata": {},
     "output_type": "execute_result"
    }
   ],
   "source": [
    "freq_show_baseline_mean = freq_show_baseline.data.mean(axis = -1)\n",
    "freq_show_baseline_mean.shape"
   ]
  },
  {
   "cell_type": "code",
   "execution_count": 95,
   "metadata": {},
   "outputs": [
    {
     "data": {
      "text/plain": [
       "(306, 20, 1)"
      ]
     },
     "execution_count": 95,
     "metadata": {},
     "output_type": "execute_result"
    }
   ],
   "source": [
    "freq_show_baseline_mean_reshape = freq_show_baseline_mean[:, :, np.newaxis]\n",
    "freq_show_baseline_mean_reshape.shape"
   ]
  },
  {
   "cell_type": "markdown",
   "metadata": {},
   "source": [
    "# ###### ДЛЯ ДАННЫХ ##############"
   ]
  },
  {
   "cell_type": "code",
   "execution_count": 96,
   "metadata": {},
   "outputs": [
    {
     "name": "stdout",
     "output_type": "stream",
     "text": [
      "Not setting metadata\n",
      "Not setting metadata\n",
      "2 matching events found\n",
      "No baseline correction applied\n",
      "0 projection items activated\n",
      "Loading data for 2 events and 4501 original time points ...\n",
      "0 bad epochs dropped\n"
     ]
    }
   ],
   "source": [
    "# baseline = None, чтобы не вычитался дефолтный бейзлайн\n",
    "epochs = mne.Epochs(raw_data, events_response, event_id = None, tmin = period_start, \n",
    "\t\t                tmax = period_end, baseline = None, picks = picks, preload = True)\n",
    "\t\t       \n",
    "epochs.resample(300) \n",
    "\n",
    "freq_show, itc = mne.time_frequency.tfr_multitaper(epochs, freqs = freqs, n_cycles = n_cycles, use_fft = False,\n",
    "                                              return_itc = True, average=True)"
   ]
  },
  {
   "cell_type": "code",
   "execution_count": 61,
   "metadata": {},
   "outputs": [
    {
     "data": {
      "text/plain": [
       "(306, 20, 1350)"
      ]
     },
     "execution_count": 61,
     "metadata": {},
     "output_type": "execute_result"
    }
   ],
   "source": [
    "freq_show.data.shape"
   ]
  },
  {
   "cell_type": "code",
   "execution_count": 62,
   "metadata": {},
   "outputs": [
    {
     "data": {
      "text/plain": [
       "(306, 20, 1350)"
      ]
     },
     "execution_count": 62,
     "metadata": {},
     "output_type": "execute_result"
    }
   ],
   "source": [
    "itc.data.shape"
   ]
  },
  {
   "cell_type": "code",
   "execution_count": 63,
   "metadata": {},
   "outputs": [
    {
     "data": {
      "text/plain": [
       "(306, 20, 1350)"
      ]
     },
     "execution_count": 63,
     "metadata": {},
     "output_type": "execute_result"
    }
   ],
   "source": [
    "data = 10*np.log10(freq_show.data/freq_show_baseline_mean_reshape)\n",
    "data.shape"
   ]
  },
  {
   "cell_type": "markdown",
   "metadata": {},
   "source": [
    "#  Проверка вычитания бэйзлайн "
   ]
  },
  {
   "cell_type": "code",
   "execution_count": 97,
   "metadata": {},
   "outputs": [
    {
     "data": {
      "text/plain": [
       "(1,)"
      ]
     },
     "execution_count": 97,
     "metadata": {},
     "output_type": "execute_result"
    }
   ],
   "source": [
    "freq_show_baseline_mean_reshape[0][0].shape"
   ]
  },
  {
   "cell_type": "code",
   "execution_count": 98,
   "metadata": {},
   "outputs": [
    {
     "data": {
      "text/plain": [
       "array([1.07851562e-22])"
      ]
     },
     "execution_count": 98,
     "metadata": {},
     "output_type": "execute_result"
    }
   ],
   "source": [
    "freq_show_baseline_mean_reshape[0][0]"
   ]
  },
  {
   "cell_type": "code",
   "execution_count": 99,
   "metadata": {},
   "outputs": [
    {
     "data": {
      "text/plain": [
       "array([9.44200407e-23, 9.72976260e-23, 1.00074119e-22, ...,\n",
       "       6.75762405e-23, 6.46028120e-23, 6.13564935e-23])"
      ]
     },
     "execution_count": 99,
     "metadata": {},
     "output_type": "execute_result"
    }
   ],
   "source": [
    "freq_show.data[0][0]"
   ]
  },
  {
   "cell_type": "code",
   "execution_count": 100,
   "metadata": {},
   "outputs": [
    {
     "data": {
      "text/plain": [
       "(306, 20, 1350)"
      ]
     },
     "execution_count": 100,
     "metadata": {},
     "output_type": "execute_result"
    }
   ],
   "source": [
    "a = freq_show.data - freq_show_baseline_mean_reshape\n",
    "a.shape"
   ]
  },
  {
   "cell_type": "code",
   "execution_count": 101,
   "metadata": {},
   "outputs": [
    {
     "data": {
      "text/plain": [
       "array([-1.34315209e-23, -1.05539357e-23, -7.77744224e-24, ...,\n",
       "       -4.02753211e-23, -4.32487496e-23, -4.64950681e-23])"
      ]
     },
     "execution_count": 101,
     "metadata": {},
     "output_type": "execute_result"
    }
   ],
   "source": [
    "a[0][0]"
   ]
  },
  {
   "cell_type": "markdown",
   "metadata": {},
   "source": [
    "# Конец проверки"
   ]
  },
  {
   "cell_type": "code",
   "execution_count": 64,
   "metadata": {},
   "outputs": [],
   "source": [
    "freq_show.data = data"
   ]
  },
  {
   "cell_type": "code",
   "execution_count": 65,
   "metadata": {},
   "outputs": [],
   "source": [
    "freq_show.save('/home/vtretyakova/Рабочий стол/probabitily_teta/TF_plots/train.h5', overwrite=True)"
   ]
  },
  {
   "cell_type": "code",
   "execution_count": 66,
   "metadata": {},
   "outputs": [
    {
     "name": "stdout",
     "output_type": "stream",
     "text": [
      "Reading /home/vtretyakova/Рабочий стол/probabitily_teta/TF_plots/train.h5 ...\n"
     ]
    },
    {
     "name": "stderr",
     "output_type": "stream",
     "text": [
      "/tmp/ipykernel_1568406/2322517142.py:1: RuntimeWarning: This filename (/home/vtretyakova/Рабочий стол/probabitily_teta/TF_plots/train.h5) does not conform to MNE naming conventions. All tfr files should end with -tfr.h5 or _tfr.h5\n",
      "  tfr = mne.time_frequency.read_tfrs('/home/vtretyakova/Рабочий стол/probabitily_teta/TF_plots/train.h5', condition=None)\n"
     ]
    }
   ],
   "source": [
    "tfr = mne.time_frequency.read_tfrs('/home/vtretyakova/Рабочий стол/probabitily_teta/TF_plots/train.h5', condition=None)\n",
    "tfr1 = tfr[0]"
   ]
  },
  {
   "cell_type": "code",
   "execution_count": 67,
   "metadata": {},
   "outputs": [
    {
     "data": {
      "text/plain": [
       "[<AverageTFR | time : [-1.750000, 2.746667], freq : [2.000000, 40.000000], nave : 2, channels : 306, ~68.4 MB>]"
      ]
     },
     "execution_count": 67,
     "metadata": {},
     "output_type": "execute_result"
    }
   ],
   "source": [
    "tfr"
   ]
  },
  {
   "cell_type": "code",
   "execution_count": 68,
   "metadata": {},
   "outputs": [
    {
     "data": {
      "text/plain": [
       "<AverageTFR | time : [-1.750000, 2.746667], freq : [2.000000, 40.000000], nave : 2, channels : 306, ~68.4 MB>"
      ]
     },
     "execution_count": 68,
     "metadata": {},
     "output_type": "execute_result"
    }
   ],
   "source": [
    "tfr1"
   ]
  },
  {
   "cell_type": "code",
   "execution_count": 69,
   "metadata": {},
   "outputs": [
    {
     "data": {
      "text/plain": [
       "(306, 20, 1350)"
      ]
     },
     "execution_count": 69,
     "metadata": {},
     "output_type": "execute_result"
    }
   ],
   "source": [
    "tfr1.data.shape"
   ]
  },
  {
   "cell_type": "markdown",
   "metadata": {},
   "source": [
    "# Saving ITC "
   ]
  },
  {
   "cell_type": "code",
   "execution_count": 70,
   "metadata": {},
   "outputs": [],
   "source": [
    "itc.save('/home/vtretyakova/Рабочий стол/probabitily_teta/TF_plots/itc_train.h5', overwrite=True)"
   ]
  },
  {
   "cell_type": "code",
   "execution_count": 71,
   "metadata": {},
   "outputs": [
    {
     "name": "stdout",
     "output_type": "stream",
     "text": [
      "Reading /home/vtretyakova/Рабочий стол/probabitily_teta/TF_plots/itc_train.h5 ...\n"
     ]
    },
    {
     "name": "stderr",
     "output_type": "stream",
     "text": [
      "/tmp/ipykernel_1568406/1696156417.py:1: RuntimeWarning: This filename (/home/vtretyakova/Рабочий стол/probabitily_teta/TF_plots/itc_train.h5) does not conform to MNE naming conventions. All tfr files should end with -tfr.h5 or _tfr.h5\n",
      "  itc_read = mne.time_frequency.read_tfrs('/home/vtretyakova/Рабочий стол/probabitily_teta/TF_plots/itc_train.h5', condition=None)\n"
     ]
    }
   ],
   "source": [
    "itc_read = mne.time_frequency.read_tfrs('/home/vtretyakova/Рабочий стол/probabitily_teta/TF_plots/itc_train.h5', condition=None)\n",
    "\n",
    "\n"
   ]
  },
  {
   "cell_type": "code",
   "execution_count": 72,
   "metadata": {},
   "outputs": [
    {
     "data": {
      "text/plain": [
       "[<AverageTFR | time : [-1.750000, 2.746667], freq : [2.000000, 40.000000], nave : 2, channels : 306, ~68.4 MB>]"
      ]
     },
     "execution_count": 72,
     "metadata": {},
     "output_type": "execute_result"
    }
   ],
   "source": [
    "itc_read"
   ]
  },
  {
   "cell_type": "code",
   "execution_count": 73,
   "metadata": {},
   "outputs": [
    {
     "data": {
      "text/plain": [
       "<AverageTFR | time : [-1.750000, 2.746667], freq : [2.000000, 40.000000], nave : 2, channels : 306, ~68.4 MB>"
      ]
     },
     "execution_count": 73,
     "metadata": {},
     "output_type": "execute_result"
    }
   ],
   "source": [
    "itc_read[0]"
   ]
  },
  {
   "cell_type": "markdown",
   "metadata": {},
   "source": [
    "# Combained planars"
   ]
  },
  {
   "cell_type": "markdown",
   "metadata": {},
   "source": [
    "# TF Data"
   ]
  },
  {
   "cell_type": "code",
   "execution_count": 74,
   "metadata": {},
   "outputs": [],
   "source": [
    "ep_TFR_planar1 = tfr1.copy(); \n",
    "ep_TFR_planar2 = tfr1.copy();\n",
    "ep_TFR_planar1.pick_types(meg='planar1')\n",
    "ep_TFR_planar2.pick_types(meg='planar2')\n",
    "\n",
    "#grad_RMS = np.power((np.power(evk_planar1.data, 2) + np.power(evk_planar2.data, 2)), 1/2)\n",
    "combine = ep_TFR_planar1.data + ep_TFR_planar2.data"
   ]
  },
  {
   "cell_type": "code",
   "execution_count": 75,
   "metadata": {},
   "outputs": [
    {
     "name": "stdout",
     "output_type": "stream",
     "text": [
      "Reading /net/server/data/Archive/prob_learn/vtretyakova/Nikita_mio_cleaned/tfr_plots/2_40_step_2_time_bandwidth_by_default_4_early_log/donor_planar1_evoked.h5 ...\n"
     ]
    },
    {
     "name": "stderr",
     "output_type": "stream",
     "text": [
      "/tmp/ipykernel_1568406/3185066664.py:2: RuntimeWarning: This filename (/net/server/data/Archive/prob_learn/vtretyakova/Nikita_mio_cleaned/tfr_plots/2_40_step_2_time_bandwidth_by_default_4_early_log/donor_planar1_evoked.h5) does not conform to MNE naming conventions. All tfr files should end with -tfr.h5 or _tfr.h5\n",
      "  donor = mne.time_frequency.read_tfrs('/net/server/data/Archive/prob_learn/vtretyakova/Nikita_mio_cleaned/tfr_plots/{0}/donor_planar1_evoked.h5'.format(freq_range), condition=None)[0]\n"
     ]
    },
    {
     "data": {
      "text/plain": [
       "(102, 20, 1350)"
      ]
     },
     "execution_count": 75,
     "metadata": {},
     "output_type": "execute_result"
    }
   ],
   "source": [
    "freq_range = '2_40_step_2_time_bandwidth_by_default_4_early_log'\n",
    "donor = mne.time_frequency.read_tfrs('/net/server/data/Archive/prob_learn/vtretyakova/Nikita_mio_cleaned/tfr_plots/{0}/donor_planar1_evoked.h5'.format(freq_range), condition=None)[0]\n",
    "donor.data.shape"
   ]
  },
  {
   "cell_type": "code",
   "execution_count": 76,
   "metadata": {},
   "outputs": [],
   "source": [
    "donor.data = combine"
   ]
  },
  {
   "cell_type": "code",
   "execution_count": 77,
   "metadata": {},
   "outputs": [],
   "source": [
    "donor.save('/home/vtretyakova/Рабочий стол/probabitily_teta/TF_plots/comb_planar_train.h5', overwrite=True)"
   ]
  },
  {
   "cell_type": "code",
   "execution_count": 78,
   "metadata": {},
   "outputs": [
    {
     "name": "stdout",
     "output_type": "stream",
     "text": [
      "Reading /home/vtretyakova/Рабочий стол/probabitily_teta/TF_plots/comb_planar_train.h5 ...\n"
     ]
    },
    {
     "name": "stderr",
     "output_type": "stream",
     "text": [
      "/tmp/ipykernel_1568406/1332895749.py:1: RuntimeWarning: This filename (/home/vtretyakova/Рабочий стол/probabitily_teta/TF_plots/comb_planar_train.h5) does not conform to MNE naming conventions. All tfr files should end with -tfr.h5 or _tfr.h5\n",
      "  donor = mne.time_frequency.read_tfrs('/home/vtretyakova/Рабочий стол/probabitily_teta/TF_plots/comb_planar_train.h5', condition=None)[0]\n"
     ]
    }
   ],
   "source": [
    "donor = mne.time_frequency.read_tfrs('/home/vtretyakova/Рабочий стол/probabitily_teta/TF_plots/comb_planar_train.h5', condition=None)[0]\n",
    "\n"
   ]
  },
  {
   "cell_type": "code",
   "execution_count": 80,
   "metadata": {},
   "outputs": [
    {
     "name": "stdout",
     "output_type": "stream",
     "text": [
      "No baseline correction applied\n"
     ]
    },
    {
     "data": {
      "image/png": "[encoded data removed]",
      "text/plain": [
       "<Figure size 432x288 with 2 Axes>"
      ]
     },
     "metadata": {
      "needs_background": "light"
     },
     "output_type": "display_data"
    },
    {
     "data": {
      "text/plain": [
       "[<Figure size 432x288 with 2 Axes>]"
      ]
     },
     "execution_count": 80,
     "metadata": {},
     "output_type": "execute_result"
    }
   ],
   "source": [
    "donor.plot([82], baseline=None, title=donor.ch_names[82])"
   ]
  },
  {
   "cell_type": "code",
   "execution_count": 81,
   "metadata": {},
   "outputs": [
    {
     "data": {
      "text/plain": [
       "<AverageTFR | time : [-1.750000, 2.746667], freq : [2.000000, 40.000000], nave : 2, channels : 102, ~26.0 MB>"
      ]
     },
     "execution_count": 81,
     "metadata": {},
     "output_type": "execute_result"
    }
   ],
   "source": [
    "ITC_planar1 = itc.copy(); \n",
    "ITC_planar2 = itc.copy();\n",
    "ITC_planar1.pick_types(meg='planar1')\n",
    "ITC_planar2.pick_types(meg='planar2')"
   ]
  },
  {
   "cell_type": "code",
   "execution_count": 85,
   "metadata": {},
   "outputs": [
    {
     "name": "stdout",
     "output_type": "stream",
     "text": [
      "No baseline correction applied\n"
     ]
    },
    {
     "data": {
      "image/png": "[encoded data removed]",
      "text/plain": [
       "<Figure size 432x288 with 2 Axes>"
      ]
     },
     "metadata": {
      "needs_background": "light"
     },
     "output_type": "display_data"
    },
    {
     "data": {
      "text/plain": [
       "[<Figure size 432x288 with 2 Axes>]"
      ]
     },
     "execution_count": 85,
     "metadata": {},
     "output_type": "execute_result"
    }
   ],
   "source": [
    "ITC_planar1.plot([82], baseline=None, title=ITC_planar1.ch_names[82], vmin=0., vmax=1., cmap='Reds')"
   ]
  },
  {
   "cell_type": "code",
   "execution_count": 86,
   "metadata": {},
   "outputs": [
    {
     "name": "stdout",
     "output_type": "stream",
     "text": [
      "No baseline correction applied\n"
     ]
    },
    {
     "data": {
      "image/png": "[encoded data removed]",
      "text/plain": [
       "<Figure size 432x288 with 2 Axes>"
      ]
     },
     "metadata": {
      "needs_background": "light"
     },
     "output_type": "display_data"
    },
    {
     "data": {
      "text/plain": [
       "[<Figure size 432x288 with 2 Axes>]"
      ]
     },
     "execution_count": 86,
     "metadata": {},
     "output_type": "execute_result"
    }
   ],
   "source": [
    "ITC_planar2.plot([82], baseline=None, title=ITC_planar2.ch_names[82], vmin=0., vmax=1., cmap='Reds')"
   ]
  }
 ],
 "metadata": {
  "kernelspec": {
   "display_name": "Python 3 (ipykernel)",
   "language": "python",
   "name": "python3"
  },
  "language_info": {
   "codemirror_mode": {
    "name": "ipython",
    "version": 3
   },
   "file_extension": ".py",
   "mimetype": "text/x-python",
   "name": "python",
   "nbconvert_exporter": "python",
   "pygments_lexer": "ipython3",
   "version": "3.9.7"
  }
 },
 "nbformat": 4,
 "nbformat_minor": 4
}

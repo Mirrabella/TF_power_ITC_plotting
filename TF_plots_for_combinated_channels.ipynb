{
 "cells": [
  {
   "cell_type": "code",
   "execution_count": 1,
   "id": "e88d7beb",
   "metadata": {},
   "outputs": [],
   "source": [
    "import mne\n",
    "import os.path as op\n",
    "import os\n",
    "from matplotlib import pyplot as plt\n",
    "import numpy as np\n",
    "from scipy import stats\n",
    "import copy\n",
    "import statsmodels.stats.multitest as mul"
   ]
  },
  {
   "cell_type": "code",
   "execution_count": 3,
   "id": "5d8f96fe",
   "metadata": {},
   "outputs": [
    {
     "name": "stdout",
     "output_type": "stream",
     "text": [
      "Reading /home/vtretyakova/Рабочий стол/time_frequency_plots/donor_evoked_planar2.h5 ...\n"
     ]
    },
    {
     "name": "stderr",
     "output_type": "stream",
     "text": [
      "/tmp/ipykernel_10930/2081611930.py:1: RuntimeWarning: This filename (/home/vtretyakova/Рабочий стол/time_frequency_plots/donor_evoked_planar2.h5) does not conform to MNE naming conventions. All tfr files should end with -tfr.h5 or _tfr.h5\n",
      "  TF = mne.time_frequency.read_tfrs('/home/vtretyakova/Рабочий стол/time_frequency_plots/donor_evoked_planar2.h5', condition=None)[0]\n"
     ]
    }
   ],
   "source": [
    "TF = mne.time_frequency.read_tfrs('/home/vtretyakova/Рабочий стол/time_frequency_plots/donor_evoked_planar2.h5', condition=None)[0]\n",
    "\n"
   ]
  },
  {
   "cell_type": "code",
   "execution_count": 4,
   "id": "f10673ee",
   "metadata": {},
   "outputs": [
    {
     "data": {
      "text/plain": [
       "<AverageTFR | time : [-1.750000, 2.746667], freq : [2.000000, 40.000000], nave : 2, channels : 102, ~26.0 MB>"
      ]
     },
     "execution_count": 4,
     "metadata": {},
     "output_type": "execute_result"
    }
   ],
   "source": [
    "TF"
   ]
  },
  {
   "cell_type": "code",
   "execution_count": 5,
   "id": "5ae98f05",
   "metadata": {},
   "outputs": [
    {
     "data": {
      "text/plain": [
       "mne.time_frequency.tfr.AverageTFR"
      ]
     },
     "execution_count": 5,
     "metadata": {},
     "output_type": "execute_result"
    }
   ],
   "source": [
    "type(TF)"
   ]
  },
  {
   "cell_type": "code",
   "execution_count": 7,
   "id": "c8759f09",
   "metadata": {},
   "outputs": [
    {
     "data": {
      "text/plain": [
       "(102, 20, 1350)"
      ]
     },
     "execution_count": 7,
     "metadata": {},
     "output_type": "execute_result"
    }
   ],
   "source": [
    "TF.data.shape"
   ]
  },
  {
   "cell_type": "code",
   "execution_count": 8,
   "id": "805be367",
   "metadata": {},
   "outputs": [
    {
     "data": {
      "text/plain": [
       "(20, 1350)"
      ]
     },
     "execution_count": 8,
     "metadata": {},
     "output_type": "execute_result"
    }
   ],
   "source": [
    "TF.data[68].shape"
   ]
  },
  {
   "cell_type": "markdown",
   "id": "357fba49",
   "metadata": {},
   "source": [
    "# Add channel axis"
   ]
  },
  {
   "cell_type": "code",
   "execution_count": 11,
   "id": "508fd8ad",
   "metadata": {},
   "outputs": [],
   "source": [
    "best_chan = np.zeros((3, 20, 1350))"
   ]
  },
  {
   "cell_type": "code",
   "execution_count": 13,
   "id": "085f7801",
   "metadata": {},
   "outputs": [],
   "source": [
    "best_chan_list = [68, 75, 76]"
   ]
  },
  {
   "cell_type": "code",
   "execution_count": 17,
   "id": "a8ca90d9",
   "metadata": {},
   "outputs": [
    {
     "data": {
      "text/plain": [
       "(3, 20, 1350)"
      ]
     },
     "execution_count": 17,
     "metadata": {},
     "output_type": "execute_result"
    }
   ],
   "source": [
    "for ind, c in enumerate(best_chan_list):\n",
    "    best_chan[ind] = TF.data[c]\n",
    "\n",
    "best_chan.shape"
   ]
  },
  {
   "cell_type": "code",
   "execution_count": 18,
   "id": "d887a71a",
   "metadata": {},
   "outputs": [
    {
     "data": {
      "text/plain": [
       "numpy.ndarray"
      ]
     },
     "execution_count": 18,
     "metadata": {},
     "output_type": "execute_result"
    }
   ],
   "source": [
    "type(best_chan)"
   ]
  },
  {
   "cell_type": "code",
   "execution_count": 20,
   "id": "6e7ce0b0",
   "metadata": {},
   "outputs": [],
   "source": [
    "best_chan_mean = best_chan.mean(axis = 0)"
   ]
  },
  {
   "cell_type": "code",
   "execution_count": 21,
   "id": "1febf144",
   "metadata": {},
   "outputs": [
    {
     "data": {
      "text/plain": [
       "(20, 1350)"
      ]
     },
     "execution_count": 21,
     "metadata": {},
     "output_type": "execute_result"
    }
   ],
   "source": [
    "best_chan_mean.shape"
   ]
  },
  {
   "cell_type": "code",
   "execution_count": 22,
   "id": "5061fb7f",
   "metadata": {},
   "outputs": [
    {
     "data": {
      "text/plain": [
       "array([[-2.11563247, -1.80738852, -1.53245604, ..., -2.10664666,\n",
       "        -2.3374024 , -2.62334023],\n",
       "       [-0.28469853, -0.20484021, -0.14080775, ..., -2.49189922,\n",
       "        -2.56579262, -2.65795052],\n",
       "       [ 2.24960108,  2.25738925,  2.27424952, ..., -0.76109564,\n",
       "        -0.86121014, -0.92884671],\n",
       "       ...,\n",
       "       [-8.88942754, -9.20985168, -8.50824679, ..., -2.73824285,\n",
       "        -2.78406281, -3.1109038 ],\n",
       "       [-4.18432038, -3.97171729, -3.48077587, ..., -2.43217288,\n",
       "        -2.59134642, -3.01632092],\n",
       "       [-4.31823981, -3.98703148, -3.63338742, ..., -3.41407134,\n",
       "        -2.90671077, -2.63676674]])"
      ]
     },
     "execution_count": 22,
     "metadata": {},
     "output_type": "execute_result"
    }
   ],
   "source": [
    "TF.data[0]"
   ]
  },
  {
   "cell_type": "code",
   "execution_count": 23,
   "id": "aa24041f",
   "metadata": {},
   "outputs": [
    {
     "data": {
      "text/plain": [
       "array([[-3.58558787, -3.60686406, -3.54051054, ..., -0.17333922,\n",
       "        -0.33830555, -0.48103604],\n",
       "       [-3.07594983, -3.03436854, -2.92201325, ..., -0.25437025,\n",
       "        -0.35340379, -0.44661251],\n",
       "       [-4.02777482, -3.95574889, -3.83332362, ..., -2.09803784,\n",
       "        -2.05824639, -2.08292139],\n",
       "       ...,\n",
       "       [-4.97382288, -5.15753081, -5.04142837, ..., -6.4597936 ,\n",
       "        -6.21582936, -6.28642665],\n",
       "       [-6.02513993, -5.73836498, -5.31103908, ..., -7.40042498,\n",
       "        -7.25787777, -7.03146196],\n",
       "       [-5.65091027, -5.50584518, -5.17551813, ..., -5.7619862 ,\n",
       "        -6.02475671, -6.36719121]])"
      ]
     },
     "execution_count": 23,
     "metadata": {},
     "output_type": "execute_result"
    }
   ],
   "source": [
    "best_chan_mean"
   ]
  },
  {
   "cell_type": "code",
   "execution_count": 24,
   "id": "2257fbd6",
   "metadata": {},
   "outputs": [],
   "source": [
    "TF.data[0] = best_chan_mean\n",
    "\n"
   ]
  },
  {
   "cell_type": "code",
   "execution_count": 25,
   "id": "879ecf5e",
   "metadata": {},
   "outputs": [
    {
     "data": {
      "text/plain": [
       "array([[-3.58558787, -3.60686406, -3.54051054, ..., -0.17333922,\n",
       "        -0.33830555, -0.48103604],\n",
       "       [-3.07594983, -3.03436854, -2.92201325, ..., -0.25437025,\n",
       "        -0.35340379, -0.44661251],\n",
       "       [-4.02777482, -3.95574889, -3.83332362, ..., -2.09803784,\n",
       "        -2.05824639, -2.08292139],\n",
       "       ...,\n",
       "       [-4.97382288, -5.15753081, -5.04142837, ..., -6.4597936 ,\n",
       "        -6.21582936, -6.28642665],\n",
       "       [-6.02513993, -5.73836498, -5.31103908, ..., -7.40042498,\n",
       "        -7.25787777, -7.03146196],\n",
       "       [-5.65091027, -5.50584518, -5.17551813, ..., -5.7619862 ,\n",
       "        -6.02475671, -6.36719121]])"
      ]
     },
     "execution_count": 25,
     "metadata": {},
     "output_type": "execute_result"
    }
   ],
   "source": [
    "TF.data[0]"
   ]
  },
  {
   "cell_type": "code",
   "execution_count": 26,
   "id": "ecefb2cc",
   "metadata": {},
   "outputs": [
    {
     "name": "stdout",
     "output_type": "stream",
     "text": [
      "No baseline correction applied\n"
     ]
    },
    {
     "data": {
      "image/png": "[encoded data removed]",
      "text/plain": [
       "<Figure size 432x288 with 2 Axes>"
      ]
     },
     "metadata": {
      "needs_background": "light"
     },
     "output_type": "display_data"
    }
   ],
   "source": [
    "b = TF.plot([0], baseline=None);\n",
    "\n",
    "\n",
    "\n",
    "\n",
    "\n"
   ]
  },
  {
   "cell_type": "markdown",
   "id": "5e83e46d",
   "metadata": {},
   "source": [
    "# With stat"
   ]
  },
  {
   "cell_type": "code",
   "execution_count": 27,
   "id": "870e8305",
   "metadata": {},
   "outputs": [
    {
     "name": "stdout",
     "output_type": "stream",
     "text": [
      "40\n",
      "Reading /net/server/data/Archive/prob_learn/vtretyakova/Nikita_mio_cleaned/tfr_plots/2_40_step_2_time_bandwidth_by_default_4_early_log/donor_planar1_evoked.h5 ...\n"
     ]
    },
    {
     "name": "stderr",
     "output_type": "stream",
     "text": [
      "/tmp/ipykernel_10930/1369675684.py:55: RuntimeWarning: This filename (/net/server/data/Archive/prob_learn/vtretyakova/Nikita_mio_cleaned/tfr_plots/2_40_step_2_time_bandwidth_by_default_4_early_log/donor_planar1_evoked.h5) does not conform to MNE naming conventions. All tfr files should end with -tfr.h5 or _tfr.h5\n",
      "  donor = mne.time_frequency.read_tfrs('/net/server/data/Archive/prob_learn/vtretyakova/Nikita_mio_cleaned/tfr_plots/{0}/donor_planar1_evoked.h5'.format(freq_range), condition=None)[0]\n"
     ]
    }
   ],
   "source": [
    "freq_range = '2_40_step_2_time_bandwidth_by_default_4_early_log'\n",
    "\n",
    "subjects = []\n",
    "for i in range(0,63):\n",
    "    if i < 10:\n",
    "        subjects += ['P00' + str(i)]\n",
    "    else:\n",
    "        subjects += ['P0' + str(i)]\n",
    "\n",
    "# следующие испытуемы удаляются из выборки по причине возраста (>40 лет), либо нерискующие\n",
    "subjects.remove('P000')\n",
    "subjects.remove('P020')\n",
    "subjects.remove('P036')\n",
    "subjects.remove('P049')\n",
    "subjects.remove('P056')\n",
    "\n",
    "'''\n",
    "# у следующих испытуемых риски удалились после коррекции меток (удаления технических артефактов и восставновления недостающих (Лера)). У этих испытуемых \"Риски\" были повторными, а мы брали, только одиночные\n",
    "subjects.remove('P005')\n",
    "subjects.remove('P037')\n",
    "subjects.remove('P061')\n",
    "\n",
    "'''\n",
    "  \n",
    "###################### при построении topomaps берем только тех испытуемых, у которых есть все категории условий ####################\n",
    "### extract subjects with all conditions:fb+trial_type ####\n",
    "cond_list = ['_norisk_fb_cur_positive',\n",
    "             '_prerisk_fb_cur_positive',\n",
    "             '_risk_fb_cur_positive',\n",
    "             '_postrisk_fb_cur_positive',\n",
    "             '_norisk_fb_cur_negative',\n",
    "             '_prerisk_fb_cur_negative',\n",
    "             '_risk_fb_cur_negative',\n",
    "             '_postrisk_fb_cur_negative'\n",
    "             ]\n",
    "\n",
    "out_path='/net/server/data/Archive/prob_learn/vtretyakova/Nikita_mio_cleaned/beta_16_30_epo/' #path to epochs\n",
    "f = os.listdir(out_path) # Делает список всех файлов, которые храняться в папке\n",
    "\n",
    "\n",
    "subj_list = subjects.copy()\n",
    "for i,subject in enumerate(subjects):\n",
    "    subject_files = [file for file in f if subject in file] #make list with all subject files \n",
    "    for j in cond_list: #check if subject has all conditions\n",
    "        if not any(j in s for s in subject_files):\n",
    "            if subject in subj_list:\n",
    "                subj_list.remove(subject)\n",
    "\n",
    "subjects = subj_list\n",
    "print(len(subjects))\n",
    "\n",
    "########################## Combined planars ####################################\n",
    "\n",
    "# донор (donor creation see make_donor_for_tfr_plot.ipynb)\n",
    "donor = mne.time_frequency.read_tfrs('/net/server/data/Archive/prob_learn/vtretyakova/Nikita_mio_cleaned/tfr_plots/{0}/donor_planar1_evoked.h5'.format(freq_range), condition=None)[0]\n",
    "\n",
    "n = donor.data.shape[2] # количество временных точек (берем у донора, если донор из тех же данных.\n",
    "fr = donor.data.shape[1] # number of frequencies  (берем у донора, если донор из тех же данных.\n",
    "\n",
    "#os.makedirs('/home/vtretyakova/Рабочий стол/time_frequency_plots/{0}_comb_planar'.format(freq_range), exist_ok = True)\n",
    "os.makedirs('/home/vtretyakova/Рабочий стол/time_frequency_plots/test', exist_ok = True)\n",
    "\n",
    "\n",
    "data_path = '/net/server/data/Archive/prob_learn/vtretyakova/Nikita_mio_cleaned/tfr_plots/{0}/{0}_comb_planars'.format(freq_range)"
   ]
  },
  {
   "cell_type": "code",
   "execution_count": 28,
   "id": "b9a66a45",
   "metadata": {},
   "outputs": [],
   "source": [
    "p1 = 'norisk'\n",
    "p2 = 'risk'\n",
    "\n",
    "best_chan_list = [68, 75, 76]\n",
    "interval = 'decision_making'\n"
   ]
  },
  {
   "cell_type": "code",
   "execution_count": 29,
   "id": "f01fa252",
   "metadata": {},
   "outputs": [
    {
     "data": {
      "text/plain": [
       "['P001',\n",
       " 'P002',\n",
       " 'P004',\n",
       " 'P006',\n",
       " 'P007',\n",
       " 'P008',\n",
       " 'P011',\n",
       " 'P014',\n",
       " 'P015',\n",
       " 'P016',\n",
       " 'P017',\n",
       " 'P019',\n",
       " 'P021',\n",
       " 'P022',\n",
       " 'P023',\n",
       " 'P024',\n",
       " 'P025',\n",
       " 'P028',\n",
       " 'P029',\n",
       " 'P030',\n",
       " 'P031',\n",
       " 'P032',\n",
       " 'P033',\n",
       " 'P034',\n",
       " 'P035',\n",
       " 'P039',\n",
       " 'P040',\n",
       " 'P042',\n",
       " 'P043',\n",
       " 'P044',\n",
       " 'P045',\n",
       " 'P047',\n",
       " 'P048',\n",
       " 'P052',\n",
       " 'P053',\n",
       " 'P055',\n",
       " 'P057',\n",
       " 'P059',\n",
       " 'P060',\n",
       " 'P062']"
      ]
     },
     "execution_count": 29,
     "metadata": {},
     "output_type": "execute_result"
    }
   ],
   "source": [
    "subj_list"
   ]
  },
  {
   "cell_type": "code",
   "execution_count": 51,
   "id": "03305547",
   "metadata": {},
   "outputs": [],
   "source": [
    "subj = 'P001'\n",
    "contr = np.zeros((4, 102, fr, n))\n",
    "parameter1 = 'risk'\n",
    "planar = 'comb_planar'"
   ]
  },
  {
   "cell_type": "code",
   "execution_count": 52,
   "id": "5059fa5f",
   "metadata": {},
   "outputs": [
    {
     "name": "stdout",
     "output_type": "stream",
     "text": [
      "Reading /net/server/data/Archive/prob_learn/vtretyakova/Nikita_mio_cleaned/tfr_plots/2_40_step_2_time_bandwidth_by_default_4_early_log/2_40_step_2_time_bandwidth_by_default_4_early_log_comb_planars/P001_risk_average_2_40_step_2_time_bandwidth_by_default_4_early_log_resp_comb_planar.h5 ...\n"
     ]
    },
    {
     "name": "stderr",
     "output_type": "stream",
     "text": [
      "/tmp/ipykernel_10930/1313288948.py:1: RuntimeWarning: This filename (/net/server/data/Archive/prob_learn/vtretyakova/Nikita_mio_cleaned/tfr_plots/2_40_step_2_time_bandwidth_by_default_4_early_log/2_40_step_2_time_bandwidth_by_default_4_early_log_comb_planars/P001_risk_average_2_40_step_2_time_bandwidth_by_default_4_early_log_resp_comb_planar.h5) does not conform to MNE naming conventions. All tfr files should end with -tfr.h5 or _tfr.h5\n",
      "  temp1 = mne.time_frequency.read_tfrs(op.join(data_path, '{0}_{1}_average_{2}_resp_{3}.h5'.format(subj, parameter1, freq_range, planar)))[0]\n"
     ]
    }
   ],
   "source": [
    "temp1 = mne.time_frequency.read_tfrs(op.join(data_path, '{0}_{1}_average_{2}_resp_{3}.h5'.format(subj, parameter1, freq_range, planar)))[0]\n",
    "\t\t"
   ]
  },
  {
   "cell_type": "code",
   "execution_count": 54,
   "id": "34a0ff25",
   "metadata": {},
   "outputs": [],
   "source": [
    "contr[0, :, :, :] = temp1.data"
   ]
  },
  {
   "cell_type": "code",
   "execution_count": 55,
   "id": "cdd3e510",
   "metadata": {},
   "outputs": [
    {
     "data": {
      "text/plain": [
       "(102, 20, 1350)"
      ]
     },
     "execution_count": 55,
     "metadata": {},
     "output_type": "execute_result"
    }
   ],
   "source": [
    "contr[0].shape"
   ]
  },
  {
   "cell_type": "code",
   "execution_count": 68,
   "id": "c836c304",
   "metadata": {},
   "outputs": [
    {
     "data": {
      "text/plain": [
       "array([[-4.71592292, -4.56084605, -4.48102649, ..., -6.98043319,\n",
       "        -7.11590207, -7.30723467],\n",
       "       [-3.96725078, -3.70791185, -3.5959965 , ..., -6.6194406 ,\n",
       "        -6.74374182, -6.88912268],\n",
       "       [-0.85323295, -0.62842458, -0.44156545, ..., -5.50744013,\n",
       "        -5.67014009, -5.79303777],\n",
       "       ...,\n",
       "       [-7.03487709, -7.01309019, -6.6781098 , ..., -6.33791735,\n",
       "        -6.41728153, -6.56282509],\n",
       "       [-7.02584426, -6.36104725, -5.96807625, ..., -6.06782194,\n",
       "        -6.20230107, -6.41701971],\n",
       "       [-7.06149724, -6.40598706, -6.28346704, ..., -7.65113429,\n",
       "        -7.53571611, -7.59825539]])"
      ]
     },
     "execution_count": 68,
     "metadata": {},
     "output_type": "execute_result"
    }
   ],
   "source": [
    "contr[0][0]"
   ]
  },
  {
   "cell_type": "code",
   "execution_count": 63,
   "id": "bdc273f3",
   "metadata": {},
   "outputs": [],
   "source": [
    "best_chan1 = np.zeros((3, 20, 1350))\n",
    "for j, c in enumerate(best_chan_list):\n",
    "    best_chan1[j] = temp1.data[c]"
   ]
  },
  {
   "cell_type": "code",
   "execution_count": 64,
   "id": "b302e59a",
   "metadata": {},
   "outputs": [],
   "source": [
    "best_chan_mean1 = best_chan1.mean(axis = 0)"
   ]
  },
  {
   "cell_type": "code",
   "execution_count": 66,
   "id": "b20ee75a",
   "metadata": {},
   "outputs": [
    {
     "data": {
      "text/plain": [
       "(20, 1350)"
      ]
     },
     "execution_count": 66,
     "metadata": {},
     "output_type": "execute_result"
    }
   ],
   "source": [
    "best_chan_mean1.shape"
   ]
  },
  {
   "cell_type": "code",
   "execution_count": 67,
   "id": "c433e838",
   "metadata": {},
   "outputs": [
    {
     "data": {
      "text/plain": [
       "array([[-3.82342603, -3.64897401, -3.44089617, ..., -4.98967009,\n",
       "        -5.064163  , -5.14683477],\n",
       "       [-5.70361632, -5.53605269, -5.28636263, ..., -6.53977734,\n",
       "        -6.6621944 , -6.79778949],\n",
       "       [-8.54363234, -8.39098429, -8.14678975, ..., -8.12725441,\n",
       "        -8.33008169, -8.5219447 ],\n",
       "       ...,\n",
       "       [-7.60580243, -7.59685408, -7.45404937, ..., -5.41551758,\n",
       "        -5.39148963, -5.48641372],\n",
       "       [-8.53440993, -8.41736222, -8.0649098 , ..., -5.3865191 ,\n",
       "        -5.40268535, -5.42165033],\n",
       "       [-8.0511604 , -7.78266833, -7.18941375, ..., -5.10445852,\n",
       "        -5.30925007, -5.51285975]])"
      ]
     },
     "execution_count": 67,
     "metadata": {},
     "output_type": "execute_result"
    }
   ],
   "source": [
    "best_chan_mean1"
   ]
  },
  {
   "cell_type": "code",
   "execution_count": 69,
   "id": "d5d4a75b",
   "metadata": {},
   "outputs": [],
   "source": [
    "contr[0, 0, :, :] = best_chan_mean1"
   ]
  },
  {
   "cell_type": "code",
   "execution_count": 70,
   "id": "b0aeec34",
   "metadata": {},
   "outputs": [
    {
     "data": {
      "text/plain": [
       "array([[-3.82342603, -3.64897401, -3.44089617, ..., -4.98967009,\n",
       "        -5.064163  , -5.14683477],\n",
       "       [-5.70361632, -5.53605269, -5.28636263, ..., -6.53977734,\n",
       "        -6.6621944 , -6.79778949],\n",
       "       [-8.54363234, -8.39098429, -8.14678975, ..., -8.12725441,\n",
       "        -8.33008169, -8.5219447 ],\n",
       "       ...,\n",
       "       [-7.60580243, -7.59685408, -7.45404937, ..., -5.41551758,\n",
       "        -5.39148963, -5.48641372],\n",
       "       [-8.53440993, -8.41736222, -8.0649098 , ..., -5.3865191 ,\n",
       "        -5.40268535, -5.42165033],\n",
       "       [-8.0511604 , -7.78266833, -7.18941375, ..., -5.10445852,\n",
       "        -5.30925007, -5.51285975]])"
      ]
     },
     "execution_count": 70,
     "metadata": {},
     "output_type": "execute_result"
    }
   ],
   "source": [
    "contr[0][0]"
   ]
  }
 ],
 "metadata": {
  "kernelspec": {
   "display_name": "Python 3 (ipykernel)",
   "language": "python",
   "name": "python3"
  },
  "language_info": {
   "codemirror_mode": {
    "name": "ipython",
    "version": 3
   },
   "file_extension": ".py",
   "mimetype": "text/x-python",
   "name": "python",
   "nbconvert_exporter": "python",
   "pygments_lexer": "ipython3",
   "version": "3.9.7"
  }
 },
 "nbformat": 4,
 "nbformat_minor": 5
}
